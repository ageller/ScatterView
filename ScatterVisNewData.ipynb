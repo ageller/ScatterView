{
 "cells": [
  {
   "attachments": {},
   "cell_type": "markdown",
   "id": "9fe7807a",
   "metadata": {},
   "source": [
    "# Visualize a scattering event using my WebGL code\n",
    "\n",
    "You can use the [live version](https://ageller.github.io/Scatter_WebGL/) to drag-and-drop your own file and load your data into the viewer.  But if you want to run this locally (e.g., so that you can avoid the drag-and-drop feature and load your file by default), here are the steps you can follow. \n",
    "\n",
    "First, clone the GitHub repo: https://github.com/ageller/Scatter_WebGL\n",
    "\n",
    "This code will ingest data in .csv format that has columns of :\n",
    "\n",
    "```ID,time,x,y,z```\n",
    "\n",
    "Each particle gets it's own row during each time step (so you will have repeated values of time).  An example csv file is provided in the ```data``` directory.  You will need to copy your data to that ```data``` directory and name the file ```ScatterParts.csv```.  This will then become the default dataset that loads when you launch the viewer.\n",
    "\n",
    "Below is Python code that can spawn a server and show the viewer in a notebook.  \n",
    "\n",
    "Alternatively, you can start a server from your own terminal (without the need for this notebook) with :\n",
    "\n",
    "```python -m http.server```\n",
    "\n",
    "Then you can point your browser to the url ```http://localhost:8000```."
   ]
  },
  {
   "cell_type": "code",
   "execution_count": null,
   "id": "edc6d266",
   "metadata": {},
   "outputs": [],
   "source": [
    "import os\n",
    "\n",
    "from IPython.display import IFrame\n",
    "\n",
    "import http.server\n",
    "import socketserver\n",
    "\n",
    "from threading import Thread"
   ]
  },
  {
   "cell_type": "code",
   "execution_count": null,
   "id": "d16b6c3e",
   "metadata": {},
   "outputs": [],
   "source": [
    "# define the directory where the code lives (this can be anywhere on your computer; just change the directory below)\n",
    "directory = os.path.join(os.getcwd())"
   ]
  },
  {
   "cell_type": "code",
   "execution_count": null,
   "id": "d8e9d303",
   "metadata": {},
   "outputs": [],
   "source": [
    "# define the port that you want (8000 is standard)\n",
    "port = 8001"
   ]
  },
  {
   "cell_type": "code",
   "execution_count": null,
   "id": "486ee7ca",
   "metadata": {},
   "outputs": [],
   "source": [
    "# a simple class to start the http server in a thread (so that you still have access to the jupyter notebook)\n",
    "class serverThread(Thread): \n",
    "    def run(self):\n",
    "        handler = http.server.SimpleHTTPRequestHandler\n",
    "        os.chdir(directory)\n",
    "        with socketserver.TCPServer((\"\", port), handler) as httpd:\n",
    "            print(\"serving at port\", port)\n",
    "            httpd.serve_forever()\n",
    "\n",
    "serverThread().start()"
   ]
  },
  {
   "cell_type": "code",
   "execution_count": null,
   "id": "e5b6e5cf",
   "metadata": {},
   "outputs": [],
   "source": [
    "# create an iFrame to view the visualization in this notebook\n",
    "IFrame(\"http://localhost:\" + str(port), width = 800, height = 500)"
   ]
  },
  {
   "cell_type": "code",
   "execution_count": null,
   "id": "0bac58ad",
   "metadata": {},
   "outputs": [],
   "source": []
  }
 ],
 "metadata": {
  "kernelspec": {
   "display_name": "Python 3 (ipykernel)",
   "language": "python",
   "name": "python3"
  },
  "language_info": {
   "codemirror_mode": {
    "name": "ipython",
    "version": 3
   },
   "file_extension": ".py",
   "mimetype": "text/x-python",
   "name": "python",
   "nbconvert_exporter": "python",
   "pygments_lexer": "ipython3",
   "version": "3.10.4"
  }
 },
 "nbformat": 4,
 "nbformat_minor": 5
}
