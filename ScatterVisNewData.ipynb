{
 "cells": [
  {
   "cell_type": "markdown",
   "id": "9fe7807a",
   "metadata": {},
   "source": [
    "# Visualize a scattering event using my WebGL code\n",
    "\n",
    "First, clone the GitHub repo: https://github.com/ageller/Scatter_WebGL"
   ]
  },
  {
   "cell_type": "code",
   "execution_count": null,
   "id": "edc6d266",
   "metadata": {},
   "outputs": [],
   "source": [
    "import os\n",
    "import json\n",
    "import pandas as pd\n",
    "\n",
    "\n",
    "from IPython.display import IFrame\n",
    "\n",
    "import http.server\n",
    "import socketserver\n",
    "\n",
    "from threading import Thread"
   ]
  },
  {
   "cell_type": "code",
   "execution_count": null,
   "id": "d16b6c3e",
   "metadata": {},
   "outputs": [],
   "source": [
    "# define the directory where the code lives (this can be anywhere on your computer; just change the directory below)\n",
    "directory = os.path.join(os.getcwd())"
   ]
  },
  {
   "cell_type": "markdown",
   "id": "91faa0f2",
   "metadata": {},
   "source": [
    "## Create some new data to replace the default data packaged with repo\n",
    "\n",
    "For this example, I will read in some data in a csv file that I created a while ago.  (Note that this data is downsampled, and in some parts of the time sequence the trajectories do not look smooth.)\n",
    "\n",
    "The data will need to be reformatted into a dict and output as a json with the following structure.  Each primary key is a time, and for each time there are particles that have the word \"Particle\" in the key name.  Each particle has at least a key of \"r\" with [x,y,z] values (anything else is ignored).\n",
    "\n",
    "Below is a visual example of how the data should be formatted:\n",
    "\n",
    "```\n",
    "{\n",
    "\"0.1\": {\n",
    "  \"Particle1\": {\n",
    "    \"r\" : [-44.59797843122882, -1.602469437175624, -6.039267952136012e-14],\n",
    "   },\n",
    "  \"Particle2\": {\n",
    "    \"r\" : [21.90496690915433, 1.108629663443225, -0.01596151404716814],\n",
    "   },\n",
    "  \"Particle3\": {\n",
    "    \"r\" : [22.6930115220745, 0.4938397737323992, 0.01596151404722853],\n",
    "   }\n",
    "},\n",
    "\"0.2\": { ...\n",
    "```"
   ]
  },
  {
   "cell_type": "code",
   "execution_count": null,
   "id": "fc1c25a9",
   "metadata": {},
   "outputs": [],
   "source": [
    "# read in the data\n",
    "df = pd.read_csv(os.path.join(directory,'data','tripcoll.csv'))\n",
    "df.loc[(df['mass'] == 0), 'x'] = 'null'\n",
    "df.loc[(df['mass'] == 0), 'y'] = 'null'\n",
    "df.loc[(df['mass'] == 0), 'z'] = 'null'\n",
    "df"
   ]
  },
  {
   "cell_type": "code",
   "execution_count": null,
   "id": "532893f3",
   "metadata": {},
   "outputs": [],
   "source": [
    "# reformat and output to the json file\n",
    "\n",
    "starIDs = df['starID'].unique()\n",
    "times = df['time'].unique()\n",
    "\n",
    "newData = dict()\n",
    "\n",
    "for t in times:\n",
    "    newData[t] = {}\n",
    "    for iden in starIDs:\n",
    "        row = df.loc[(df['time'] == t) & (df['starID'] == iden)]\n",
    "        newData[t]['Particle' + str(iden)] = {'r': row[['x','y','z']].iloc[0].tolist()}\n",
    "\n",
    "# serialize json\n",
    "json_object = json.dumps(newData, indent = 4)\n",
    " \n",
    "# write to file (ScatterParts.json is the file name, and it lives in the code's data directory)\n",
    "# Note: this will replace the default data set\n",
    "with open(os.path.join(directory,'data','ScatterParts.json'), \"w\") as outfile:\n",
    "    outfile.write(json_object)"
   ]
  },
  {
   "cell_type": "code",
   "execution_count": null,
   "id": "d8e9d303",
   "metadata": {},
   "outputs": [],
   "source": [
    "# define the port that you want (8000 is standard)\n",
    "port = 8000"
   ]
  },
  {
   "cell_type": "code",
   "execution_count": null,
   "id": "486ee7ca",
   "metadata": {},
   "outputs": [],
   "source": [
    "# a simple class to start the http server in a thread (so that you still have access to the jupyter notebook)\n",
    "class serverThread(Thread): \n",
    "    def run(self):\n",
    "        handler = http.server.SimpleHTTPRequestHandler\n",
    "        os.chdir(directory)\n",
    "        with socketserver.TCPServer((\"\", port), handler) as httpd:\n",
    "            print(\"serving at port\", port)\n",
    "            httpd.serve_forever()\n",
    "\n",
    "serverThread().start()"
   ]
  },
  {
   "cell_type": "code",
   "execution_count": null,
   "id": "e5b6e5cf",
   "metadata": {},
   "outputs": [],
   "source": [
    "# create an iFrame to view the visualization in this notebook\n",
    "IFrame(\"http://localhost:8000\", width = 800, height = 500)"
   ]
  },
  {
   "cell_type": "code",
   "execution_count": null,
   "id": "0bac58ad",
   "metadata": {},
   "outputs": [],
   "source": []
  }
 ],
 "metadata": {
  "kernelspec": {
   "display_name": "Python 3 (ipykernel)",
   "language": "python",
   "name": "python3"
  },
  "language_info": {
   "codemirror_mode": {
    "name": "ipython",
    "version": 3
   },
   "file_extension": ".py",
   "mimetype": "text/x-python",
   "name": "python",
   "nbconvert_exporter": "python",
   "pygments_lexer": "ipython3",
   "version": "3.10.4"
  }
 },
 "nbformat": 4,
 "nbformat_minor": 5
}
