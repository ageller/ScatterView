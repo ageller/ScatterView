{
 "cells": [
  {
   "cell_type": "markdown",
   "metadata": {},
   "source": [
    "# Run a FEWBODY scattering event and convert the output to a JSON format\n"
   ]
  },
  {
   "cell_type": "markdown",
   "metadata": {},
   "source": [
    "## Run FEWBODY\n",
    "\n",
    "triplebin -m 1.0 -n 0.75 -o 1.2 -p 0.7 -l 1.1 -r 1.0 -g 0.69 -i 1.14 -j 0.65 -u 1.01 -a 2.0 -Q 10 -q 5 -e 0.2 -F 0.3 -f 0.4 -b 2.8 -D 0.001 > tripcoll\n",
    "\n",
    "cat tripcoll | awk '{if (\\$1 == \"system_time\") {print \\$0; x=0}; if (\\$1 == \"r\") {if (x > 0) print \\$0; x = x+1};}' > tripcoll.mod\n",
    "\n",
    "We could be more clever about this, but anyway we will also want a better file format that FEWBODY spits out. \n",
    "Also, I don't have FEWBODY installed on my laptop, so I'm just using an old one that I ran a while ago."
   ]
  },
  {
   "cell_type": "markdown",
   "metadata": {},
   "source": [
    "## Read in that output and convert it to a JSON file"
   ]
  },
  {
   "cell_type": "code",
   "execution_count": 2,
   "metadata": {
    "collapsed": true
   },
   "outputs": [],
   "source": [
    "#create the JSON file\n",
    "import pandas as pd\n",
    "def createJSON(data, fname,):\n",
    "    print(\"writing JSON file : \" + fname)\n",
    "    pd.Series(data).to_json(fname, orient='index') \n",
    "                \n",
    "    print(\"done\")"
   ]
  },
  {
   "cell_type": "code",
   "execution_count": 13,
   "metadata": {
    "collapsed": false,
    "scrolled": true
   },
   "outputs": [
    {
     "name": "stdout",
     "output_type": "stream",
     "text": [
      "writing JSON file : ScatterParts.json\n",
      "done\n"
     ]
    }
   ],
   "source": [
    "partsData = dict()\n",
    "partsData[\"time\"] = []\n",
    "\n",
    "with open('tripcoll.mod','r') as f:\n",
    "    tnum = -1\n",
    "    pnum = -1\n",
    "    for i, line in enumerate(f):\n",
    "        extract = [x for x in line.split()]\n",
    "\n",
    "        if (extract[0] == \"system_time\"):\n",
    "            partsData[\"time\"].append(float(extract[2]))\n",
    "            tnum += 1\n",
    "            pnum = 0\n",
    "            \n",
    "        if (extract[0] == \"r\"):\n",
    "            pnum += 1\n",
    "            key = \"star\"+str(pnum)\n",
    "            \n",
    "            if (tnum == 0):\n",
    "                partsData[key] = dict()\n",
    "                partsData[key][\"Coordinates\"] = []\n",
    "            partsData[key][\"Coordinates\"].append( [float(extract[2]), float(extract[3]), float(extract[4])] )\n",
    "            \n",
    "createJSON(partsData, 'ScatterParts.json')\n"
   ]
  },
  {
   "cell_type": "code",
   "execution_count": null,
   "metadata": {
    "collapsed": true
   },
   "outputs": [],
   "source": []
  }
 ],
 "metadata": {
  "anaconda-cloud": {},
  "kernelspec": {
   "display_name": "Python 2",
   "language": "python",
   "name": "python2"
  },
  "language_info": {
   "codemirror_mode": {
    "name": "ipython",
    "version": 2
   },
   "file_extension": ".py",
   "mimetype": "text/x-python",
   "name": "python",
   "nbconvert_exporter": "python",
   "pygments_lexer": "ipython2",
   "version": "2.7.13"
  }
 },
 "nbformat": 4,
 "nbformat_minor": 1
}
