{
 "cells": [
  {
   "cell_type": "markdown",
   "metadata": {},
   "source": [
    "# Run Mario Spera's Regularized scattering event and convert the output to a JSON format\n"
   ]
  },
  {
   "cell_type": "markdown",
   "metadata": {},
   "source": [
    "## Run the code\n",
    "\n",
    "cd /Users/ageller/SCATTER/MarioSpera/Regularized_code/bin\n",
    "\n",
    "./archain.x\n",
    "\n",
    "Uses the input files in /Users/ageller/SCATTER/MarioSpera/Regularized_code/bin/input\n",
    "\n",
    "### Input\n",
    "\n",
    "#### Input_arc.dat\n",
    "\n",
    "initial condistiotns for the stars (one line per star)\n",
    "\n",
    "format: x y z vx vy vz mass softening ($F_{12} = G*m_1*m_2/(r^2 + \\epsilon^2)$; $\\epsilon$ == softening )\n",
    "\n",
    "units: Mario uses G = 1, and he fixes the length and mass units with the conversion formula:\n",
    "\n",
    "$v_{unit} = 6.56 \\times 10^{-2} * \\sqrt{\\frac{ M_{unit}/M_{\\odot} }{ R_{unit}/pc }}$ km/s\n",
    "\n",
    "the time unit is:\n",
    "\n",
    "$t_{unit} = 14.92 * \\frac{ (R_{unit}/pc)^{3/2} }{ \\sqrt{M_{unit}/M_{\\odot}}}$ Myr\n",
    "\n",
    "\n",
    "#### parameters_arc.txt\n",
    "\n",
    "values are commented in default file that comes with the code\n",
    "\n",
    "### Output\n",
    "\n",
    "### energy.dat\n",
    "\n",
    "format: time dE? E? (one line per timestep)\n",
    "\n",
    "### output.dat\n",
    "\n",
    "format: x y z vx vy vz ? (one line per star, and then repeated for each time step)"
   ]
  },
  {
   "cell_type": "markdown",
   "metadata": {},
   "source": [
    "## Read in that output and convert it to a JSON file"
   ]
  },
  {
   "cell_type": "code",
   "execution_count": 1,
   "metadata": {
    "collapsed": true
   },
   "outputs": [],
   "source": [
    "#create the JSON file\n",
    "import pandas as pd\n",
    "def createJSON(data, fname,):\n",
    "    print(\"writing JSON file : \" + fname)\n",
    "    pd.Series(data).to_json(fname, orient='index') \n",
    "                \n",
    "    print(\"done\")"
   ]
  },
  {
   "cell_type": "code",
   "execution_count": 4,
   "metadata": {
    "collapsed": false,
    "scrolled": true
   },
   "outputs": [
    {
     "name": "stdout",
     "output_type": "stream",
     "text": [
      "writing JSON file : ScatterParts.json\n",
      "done\n"
     ]
    }
   ],
   "source": [
    "partsData = dict()\n",
    "partsData[\"time\"] = []\n",
    "\n",
    "energyFile = \"/Users/ageller/SCATTER/MarioSpera/Regularized_code/bin/energy.dat\"\n",
    "starFile = \"/Users/ageller/SCATTER/MarioSpera/Regularized_code/bin/output.dat\"\n",
    "\n",
    "#could read this from the parameters_arc.txt input file\n",
    "Nstars = 10\n",
    "\n",
    "with open(energyFile,'r') as efile:\n",
    "    for ei, eline in enumerate(efile):\n",
    "        extract = [x for x in eline.split()]\n",
    "        partsData[\"time\"].append(float(extract[0]))\n",
    "    \n",
    "        \n",
    "for i in range(Nstars):\n",
    "    key = \"star\"+str(i)\n",
    "    partsData[key] = dict()\n",
    "    partsData[key][\"Coordinates\"] = []\n",
    "    \n",
    "pnum = 0\n",
    "with open(starFile,'r') as sfile:\n",
    "    \n",
    "    for si, sline in enumerate(sfile):\n",
    "        extract = [x for x in sline.split()]\n",
    "\n",
    "        key = \"star\"+str(pnum)\n",
    "        partsData[key][\"Coordinates\"].append( [float(extract[0]), float(extract[1]), float(extract[2])] )\n",
    "        pnum += 1\n",
    "\n",
    "        if (pnum == Nstars):\n",
    "            pnum = 0\n",
    "                \n",
    "createJSON(partsData, 'ScatterParts.json')\n"
   ]
  },
  {
   "cell_type": "code",
   "execution_count": null,
   "metadata": {
    "collapsed": true
   },
   "outputs": [],
   "source": []
  }
 ],
 "metadata": {
  "anaconda-cloud": {},
  "kernelspec": {
   "display_name": "Python 2",
   "language": "python",
   "name": "python2"
  },
  "language_info": {
   "codemirror_mode": {
    "name": "ipython",
    "version": 2
   },
   "file_extension": ".py",
   "mimetype": "text/x-python",
   "name": "python",
   "nbconvert_exporter": "python",
   "pygments_lexer": "ipython2",
   "version": "2.7.13"
  }
 },
 "nbformat": 4,
 "nbformat_minor": 1
}
